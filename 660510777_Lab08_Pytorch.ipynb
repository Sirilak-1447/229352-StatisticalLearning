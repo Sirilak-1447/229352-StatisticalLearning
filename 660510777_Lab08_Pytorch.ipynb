{
  "cells": [
    {
      "cell_type": "markdown",
      "metadata": {
        "id": "view-in-github",
        "colab_type": "text"
      },
      "source": [
        "<a href=\"https://colab.research.google.com/github/Sirilak-1447/229352-StatisticalLearning/blob/main/660510777_Lab08_Pytorch.ipynb\" target=\"_parent\"><img src=\"https://colab.research.google.com/assets/colab-badge.svg\" alt=\"Open In Colab\"/></a>"
      ]
    },
    {
      "cell_type": "markdown",
      "metadata": {
        "id": "QjOa-TKGOxQ-"
      },
      "source": [
        "### Statistical Learning for Data Science 2 (229352)\n",
        "#### Instructor: Donlapark Ponnoprat\n",
        "\n",
        "#### [Course website](https://donlapark.pages.dev/229352/)\n",
        "\n",
        "## Lab #8"
      ]
    },
    {
      "cell_type": "markdown",
      "metadata": {
        "id": "G-nQb7jGS3PJ"
      },
      "source": [
        "There are several deep learning frameworks in Python.\n",
        "\n",
        "<img src=\"https://upload.wikimedia.org/wikipedia/commons/thumb/c/c6/PyTorch_logo_black.svg/2560px-PyTorch_logo_black.svg.png\" width=\"100\"/>&nbsp;&nbsp;&nbsp;&nbsp;&nbsp;&nbsp;&nbsp;<img src=\"https://upload.wikimedia.org/wikipedia/commons/2/2d/Tensorflow_logo.svg\" width=\"40\"/><img src=\"https://assets-global.website-files.com/621e749a546b7592125f38ed/62277da165ed192adba475fc_JAX.jpg\" width=\"100\"/>\n",
        "\n",
        "In this Lab, we will use PyTorch"
      ]
    },
    {
      "cell_type": "code",
      "execution_count": 472,
      "metadata": {
        "id": "MzJSrt8CSv4p"
      },
      "outputs": [],
      "source": [
        "import numpy as np\n",
        "\n",
        "import torch"
      ]
    },
    {
      "cell_type": "markdown",
      "metadata": {
        "id": "QEsXce8XuwIW"
      },
      "source": [
        "# Tensor basics"
      ]
    },
    {
      "cell_type": "markdown",
      "metadata": {
        "id": "qr1d7mpfrQ-W"
      },
      "source": [
        "## Basic tensor creation"
      ]
    },
    {
      "cell_type": "markdown",
      "metadata": {
        "id": "zoo78UqZZBmo"
      },
      "source": [
        "### Creating a scalar (1D) tensor"
      ]
    },
    {
      "cell_type": "code",
      "execution_count": 473,
      "metadata": {
        "colab": {
          "base_uri": "https://localhost:8080/"
        },
        "id": "8QkirMVZUpfe",
        "outputId": "5fcaa7b8-5fe1-4bf9-be23-bccab8efe97c"
      },
      "outputs": [
        {
          "output_type": "stream",
          "name": "stdout",
          "text": [
            "tensor(8)\n",
            "tensor(9)\n",
            "tensor(17)\n"
          ]
        }
      ],
      "source": [
        "a = torch.tensor(8)\n",
        "b = torch.tensor(9)\n",
        "print(a)\n",
        "print(b)\n",
        "print(a+b)"
      ]
    },
    {
      "cell_type": "markdown",
      "metadata": {
        "id": "Y2D_T5PPZI4L"
      },
      "source": [
        "### Convert a tensor to scalar"
      ]
    },
    {
      "cell_type": "code",
      "execution_count": 474,
      "metadata": {
        "colab": {
          "base_uri": "https://localhost:8080/"
        },
        "id": "BSkS98iYXVZI",
        "outputId": "e03de1b5-60cc-4d40-9725-66b5ab6b8ab3"
      },
      "outputs": [
        {
          "output_type": "execute_result",
          "data": {
            "text/plain": [
              "8"
            ]
          },
          "metadata": {},
          "execution_count": 474
        }
      ],
      "source": [
        "a.item()"
      ]
    },
    {
      "cell_type": "markdown",
      "metadata": {
        "id": "wLUTVuu8ZPCV"
      },
      "source": [
        "### Creating 2D tensor"
      ]
    },
    {
      "cell_type": "code",
      "execution_count": 475,
      "metadata": {
        "colab": {
          "base_uri": "https://localhost:8080/"
        },
        "id": "ST-ZldGXX9SY",
        "outputId": "bdfb019a-8b87-44a3-f0fd-067ba7e65f8a"
      },
      "outputs": [
        {
          "output_type": "stream",
          "name": "stdout",
          "text": [
            "tensor([[1, 2],\n",
            "        [3, 4]])\n"
          ]
        }
      ],
      "source": [
        "A = torch.tensor([[1, 2], [3, 4]])\n",
        "print(A)"
      ]
    },
    {
      "cell_type": "markdown",
      "metadata": {
        "id": "RL1rmhg8rVgY"
      },
      "source": [
        "## Tensor and Numpy"
      ]
    },
    {
      "cell_type": "markdown",
      "metadata": {
        "id": "1LSTMBVNZjAu"
      },
      "source": [
        "### Convert from tensor to numpy array"
      ]
    },
    {
      "cell_type": "code",
      "execution_count": 476,
      "metadata": {
        "colab": {
          "base_uri": "https://localhost:8080/"
        },
        "id": "I4LkkrQdYbLq",
        "outputId": "a859d9e9-06aa-44c8-bd01-d59172cdb3a6"
      },
      "outputs": [
        {
          "output_type": "execute_result",
          "data": {
            "text/plain": [
              "array([[1, 2],\n",
              "       [3, 4]])"
            ]
          },
          "metadata": {},
          "execution_count": 476
        }
      ],
      "source": [
        "A.numpy()"
      ]
    },
    {
      "cell_type": "markdown",
      "metadata": {
        "id": "xcFexnBYZn73"
      },
      "source": [
        "### Convert from numpy array to tensor"
      ]
    },
    {
      "cell_type": "code",
      "execution_count": 477,
      "metadata": {
        "colab": {
          "base_uri": "https://localhost:8080/"
        },
        "id": "lDRLWyGkZmjM",
        "outputId": "b3e4535d-6d66-4f27-c029-a5067d0db275"
      },
      "outputs": [
        {
          "output_type": "stream",
          "name": "stdout",
          "text": [
            "tensor([[1, 2],\n",
            "        [3, 4]])\n"
          ]
        }
      ],
      "source": [
        "B = np.array([[1, 2], [3, 4]])\n",
        "\n",
        "C = torch.from_numpy(B)\n",
        "print(C)"
      ]
    },
    {
      "cell_type": "markdown",
      "metadata": {
        "id": "5bLYQUdDb47c"
      },
      "source": [
        "## Basic operations"
      ]
    },
    {
      "cell_type": "code",
      "execution_count": 478,
      "metadata": {
        "colab": {
          "base_uri": "https://localhost:8080/"
        },
        "id": "O1ZL-UgraQZG",
        "outputId": "5b0ccaf0-bbd2-48fd-b654-3a6863c3778c"
      },
      "outputs": [
        {
          "output_type": "stream",
          "name": "stdout",
          "text": [
            "tensor([[2, 4],\n",
            "        [6, 8]])\n",
            "tensor([[-9, -8],\n",
            "        [-7, -6]])\n"
          ]
        }
      ],
      "source": [
        "D = 2*C\n",
        "\n",
        "E = C - 10\n",
        "\n",
        "print(D)\n",
        "print(E)"
      ]
    },
    {
      "cell_type": "markdown",
      "metadata": {
        "id": "K_k3thRzrdpd"
      },
      "source": [
        "### Matrix multiplication"
      ]
    },
    {
      "cell_type": "code",
      "execution_count": 479,
      "metadata": {
        "colab": {
          "base_uri": "https://localhost:8080/"
        },
        "id": "d1XwpoNaakY2",
        "outputId": "cc65835c-dffa-47f4-8f4b-a65c126278bd"
      },
      "outputs": [
        {
          "output_type": "stream",
          "name": "stdout",
          "text": [
            "tensor([[ -46,  -40],\n",
            "        [-110,  -96]])\n",
            "tensor([[ -46,  -40],\n",
            "        [-110,  -96]])\n",
            "tensor([[ -46,  -40],\n",
            "        [-110,  -96]])\n"
          ]
        }
      ],
      "source": [
        "print(torch.matmul(D, E))\n",
        "print(torch.mm(D, E))\n",
        "print(D @ E)"
      ]
    },
    {
      "cell_type": "markdown",
      "source": [],
      "metadata": {
        "id": "RSVdkYfpV0SY"
      }
    },
    {
      "cell_type": "markdown",
      "metadata": {
        "id": "TwJki4afrf0m"
      },
      "source": [
        "### Matrix transpose"
      ]
    },
    {
      "cell_type": "code",
      "execution_count": 480,
      "metadata": {
        "colab": {
          "base_uri": "https://localhost:8080/"
        },
        "id": "IumkARr4g3Nv",
        "outputId": "ad460b5f-e91a-4351-f0cd-690661dd50cf"
      },
      "outputs": [
        {
          "output_type": "stream",
          "name": "stdout",
          "text": [
            "tensor([[1, 2],\n",
            "        [3, 4]])\n",
            "tensor([[1, 3],\n",
            "        [2, 4]])\n"
          ]
        }
      ],
      "source": [
        "print(C)\n",
        "print( C.t() )"
      ]
    },
    {
      "cell_type": "code",
      "source": [
        "I = torch.tensor([[[1, 2],[3, 4]],[[5, 6],[7, 8]],[[-1, -2],[-3, -4]]])\n",
        "print(I)\n",
        "torch.transpose(I, 1, 2)"
      ],
      "metadata": {
        "id": "YGNxj-4gO28z",
        "outputId": "d83fa704-748a-4922-afb3-8e11c218ee09",
        "colab": {
          "base_uri": "https://localhost:8080/"
        }
      },
      "execution_count": 481,
      "outputs": [
        {
          "output_type": "stream",
          "name": "stdout",
          "text": [
            "tensor([[[ 1,  2],\n",
            "         [ 3,  4]],\n",
            "\n",
            "        [[ 5,  6],\n",
            "         [ 7,  8]],\n",
            "\n",
            "        [[-1, -2],\n",
            "         [-3, -4]]])\n"
          ]
        },
        {
          "output_type": "execute_result",
          "data": {
            "text/plain": [
              "tensor([[[ 1,  3],\n",
              "         [ 2,  4]],\n",
              "\n",
              "        [[ 5,  7],\n",
              "         [ 6,  8]],\n",
              "\n",
              "        [[-1, -3],\n",
              "         [-2, -4]]])"
            ]
          },
          "metadata": {},
          "execution_count": 481
        }
      ]
    },
    {
      "cell_type": "markdown",
      "metadata": {
        "id": "AuwWEOBYcbiL"
      },
      "source": [
        "## Creating a specific type of tensor"
      ]
    },
    {
      "cell_type": "code",
      "execution_count": 482,
      "metadata": {
        "id": "Vg757DJLaoqh"
      },
      "outputs": [],
      "source": [
        "# print(torch.zeros(2,3))\n",
        "# print(torch.ones(2,3))\n",
        "# print(torch.rand(2,3))\n",
        "# print(torch.randn(2,3))  # sample each number from N(0, 1)\n",
        "# print(torch.arange(9))"
      ]
    },
    {
      "cell_type": "code",
      "source": [
        "torch.zeros(2, 3)"
      ],
      "metadata": {
        "id": "qKZgIxmsQaLk",
        "outputId": "30c1dd95-ff63-402a-bc20-f88f5c3472c7",
        "colab": {
          "base_uri": "https://localhost:8080/"
        }
      },
      "execution_count": 483,
      "outputs": [
        {
          "output_type": "execute_result",
          "data": {
            "text/plain": [
              "tensor([[0., 0., 0.],\n",
              "        [0., 0., 0.]])"
            ]
          },
          "metadata": {},
          "execution_count": 483
        }
      ]
    },
    {
      "cell_type": "code",
      "source": [
        "torch.ones(2, 2, 2)"
      ],
      "metadata": {
        "id": "_ZXidFG5Qfvx",
        "outputId": "8e4af76f-d65a-44ed-dbee-283254ba7970",
        "colab": {
          "base_uri": "https://localhost:8080/"
        }
      },
      "execution_count": 484,
      "outputs": [
        {
          "output_type": "execute_result",
          "data": {
            "text/plain": [
              "tensor([[[1., 1.],\n",
              "         [1., 1.]],\n",
              "\n",
              "        [[1., 1.],\n",
              "         [1., 1.]]])"
            ]
          },
          "metadata": {},
          "execution_count": 484
        }
      ]
    },
    {
      "cell_type": "code",
      "source": [
        "torch.rand(2, 3)"
      ],
      "metadata": {
        "id": "pDms9QSYQtEf",
        "outputId": "1be0b4d8-9a20-416a-b281-bc78f77416fd",
        "colab": {
          "base_uri": "https://localhost:8080/"
        }
      },
      "execution_count": 485,
      "outputs": [
        {
          "output_type": "execute_result",
          "data": {
            "text/plain": [
              "tensor([[0.3128, 0.1793, 0.6928],\n",
              "        [0.5915, 0.1419, 0.1707]])"
            ]
          },
          "metadata": {},
          "execution_count": 485
        }
      ]
    },
    {
      "cell_type": "code",
      "source": [
        "torch.randn(3, 4) #มากกว่า -1 ได้น้อยกว่า 1 ได้"
      ],
      "metadata": {
        "id": "ZUHfWF00REMp",
        "outputId": "b7645066-b6e6-4693-d578-be75af56a903",
        "colab": {
          "base_uri": "https://localhost:8080/"
        }
      },
      "execution_count": 486,
      "outputs": [
        {
          "output_type": "execute_result",
          "data": {
            "text/plain": [
              "tensor([[ 0.6296, -0.6258,  1.0671, -0.4899],\n",
              "        [ 1.1239, -1.1167, -1.9286, -0.2776],\n",
              "        [ 0.2639, -1.4041,  1.7366,  0.7729]])"
            ]
          },
          "metadata": {},
          "execution_count": 486
        }
      ]
    },
    {
      "cell_type": "code",
      "source": [
        "torch.arange(10)"
      ],
      "metadata": {
        "id": "4GrvcdaTRT4H",
        "outputId": "02756dfe-3b0f-46ec-e1b4-ee5d3f6273e0",
        "colab": {
          "base_uri": "https://localhost:8080/"
        }
      },
      "execution_count": 487,
      "outputs": [
        {
          "output_type": "execute_result",
          "data": {
            "text/plain": [
              "tensor([0, 1, 2, 3, 4, 5, 6, 7, 8, 9])"
            ]
          },
          "metadata": {},
          "execution_count": 487
        }
      ]
    },
    {
      "cell_type": "markdown",
      "metadata": {
        "id": "aUeodCiLrofw"
      },
      "source": [
        "## Tensor's shape"
      ]
    },
    {
      "cell_type": "markdown",
      "metadata": {
        "id": "qJTX5WOHhVsB"
      },
      "source": [
        "### Checking the shape of a tensor"
      ]
    },
    {
      "cell_type": "code",
      "execution_count": 488,
      "metadata": {
        "colab": {
          "base_uri": "https://localhost:8080/"
        },
        "id": "Nzn5Lyqfhcmf",
        "outputId": "4373ac78-69c8-4ae8-d225-1507756f844c"
      },
      "outputs": [
        {
          "output_type": "stream",
          "name": "stdout",
          "text": [
            "torch.Size([4, 5])\n",
            "torch.Size([4, 5])\n"
          ]
        }
      ],
      "source": [
        "F = torch.zeros((4, 5))\n",
        "print(F.shape)\n",
        "print(F.size())"
      ]
    },
    {
      "cell_type": "code",
      "source": [
        "F = torch.zeros((2,4, 5))\n",
        "F.shape"
      ],
      "metadata": {
        "id": "r356UcfwRljY",
        "outputId": "c1d834fb-d124-4b8f-bb6d-80c1da908456",
        "colab": {
          "base_uri": "https://localhost:8080/"
        }
      },
      "execution_count": 489,
      "outputs": [
        {
          "output_type": "execute_result",
          "data": {
            "text/plain": [
              "torch.Size([2, 4, 5])"
            ]
          },
          "metadata": {},
          "execution_count": 489
        }
      ]
    },
    {
      "cell_type": "code",
      "source": [
        "F.shape[1]"
      ],
      "metadata": {
        "id": "GlxcCUkORqQw",
        "outputId": "b7671da7-3c3f-44dd-dcd1-545adc3db5ae",
        "colab": {
          "base_uri": "https://localhost:8080/"
        }
      },
      "execution_count": 490,
      "outputs": [
        {
          "output_type": "execute_result",
          "data": {
            "text/plain": [
              "4"
            ]
          },
          "metadata": {},
          "execution_count": 490
        }
      ]
    },
    {
      "cell_type": "code",
      "source": [
        "F.size()"
      ],
      "metadata": {
        "id": "ScXzncnGRwVv",
        "outputId": "09779d32-4418-405d-f841-8c54e15af853",
        "colab": {
          "base_uri": "https://localhost:8080/"
        }
      },
      "execution_count": 491,
      "outputs": [
        {
          "output_type": "execute_result",
          "data": {
            "text/plain": [
              "torch.Size([2, 4, 5])"
            ]
          },
          "metadata": {},
          "execution_count": 491
        }
      ]
    },
    {
      "cell_type": "markdown",
      "metadata": {
        "id": "Vf21H-EvgE87"
      },
      "source": [
        "### Changing the shape of a tensor"
      ]
    },
    {
      "cell_type": "code",
      "execution_count": 492,
      "metadata": {
        "colab": {
          "base_uri": "https://localhost:8080/"
        },
        "id": "o71IJ7_ic1U8",
        "outputId": "2e5986ec-a15f-4101-809c-15846123636e"
      },
      "outputs": [
        {
          "output_type": "stream",
          "name": "stdout",
          "text": [
            "tensor([[0, 1, 2],\n",
            "        [3, 4, 5]])\n",
            "tensor([[0, 1, 2],\n",
            "        [3, 4, 5]])\n"
          ]
        }
      ],
      "source": [
        "G = torch.arange(6)\n",
        "print(G.view(2, 3))\n",
        "print(G.reshape(2, 3))"
      ]
    },
    {
      "cell_type": "code",
      "source": [
        "G = torch.arange(6)\n",
        "print(G.shape)"
      ],
      "metadata": {
        "id": "-E7fiepdR3PH",
        "outputId": "953057a3-df92-4523-ddb5-f002e1dabffe",
        "colab": {
          "base_uri": "https://localhost:8080/"
        }
      },
      "execution_count": 493,
      "outputs": [
        {
          "output_type": "stream",
          "name": "stdout",
          "text": [
            "torch.Size([6])\n"
          ]
        }
      ]
    },
    {
      "cell_type": "code",
      "source": [
        "G1 = G.reshape(2, 3)\n",
        "\n",
        "G1"
      ],
      "metadata": {
        "id": "4QY3RlvgR_VH",
        "outputId": "8be41f62-72f1-40d9-c827-a192049a57fe",
        "colab": {
          "base_uri": "https://localhost:8080/"
        }
      },
      "execution_count": 494,
      "outputs": [
        {
          "output_type": "execute_result",
          "data": {
            "text/plain": [
              "tensor([[0, 1, 2],\n",
              "        [3, 4, 5]])"
            ]
          },
          "metadata": {},
          "execution_count": 494
        }
      ]
    },
    {
      "cell_type": "code",
      "source": [
        "G2 = G.view(2, 3)\n",
        "\n",
        "G2"
      ],
      "metadata": {
        "id": "beJnQ3GPSOaf",
        "outputId": "10a70c72-a801-46d7-8479-4472484e6646",
        "colab": {
          "base_uri": "https://localhost:8080/"
        }
      },
      "execution_count": 495,
      "outputs": [
        {
          "output_type": "execute_result",
          "data": {
            "text/plain": [
              "tensor([[0, 1, 2],\n",
              "        [3, 4, 5]])"
            ]
          },
          "metadata": {},
          "execution_count": 495
        }
      ]
    },
    {
      "cell_type": "markdown",
      "metadata": {
        "id": "7nZgFYT5gd2_"
      },
      "source": [
        "In general, use `reshape`, but if you are worried about the memory usage, use `view`."
      ]
    },
    {
      "cell_type": "markdown",
      "metadata": {
        "id": "uEA3iRzznjNx"
      },
      "source": [
        "### Stacking and concatenating tensors"
      ]
    },
    {
      "cell_type": "code",
      "execution_count": 496,
      "metadata": {
        "colab": {
          "base_uri": "https://localhost:8080/"
        },
        "id": "MQ6JEjsmgbpI",
        "outputId": "40c82bf1-5551-4215-e536-8ce24c1d1543"
      },
      "outputs": [
        {
          "output_type": "stream",
          "name": "stdout",
          "text": [
            "tensor([[ 0,  1,  2,  3,  4,  5],\n",
            "        [ 0, -1, -2, -3, -4, -5],\n",
            "        [ 0,  1,  2,  3,  4,  5],\n",
            "        [ 0, -1, -2, -3, -4, -5]])\n",
            "tensor([[ 0,  0,  0,  0],\n",
            "        [ 1, -1,  1, -1],\n",
            "        [ 2, -2,  2, -2],\n",
            "        [ 3, -3,  3, -3],\n",
            "        [ 4, -4,  4, -4],\n",
            "        [ 5, -5,  5, -5]])\n"
          ]
        }
      ],
      "source": [
        "H = torch.arange(6)\n",
        "H1 = - torch.arange(6)\n",
        "\n",
        "I = torch.stack([H, H1, H, H1], axis=0)\n",
        "J = torch.stack([H, H1, H, H1], axis=1)\n",
        "print(I)\n",
        "print(J)"
      ]
    },
    {
      "cell_type": "code",
      "execution_count": 497,
      "metadata": {
        "id": "Zkz--DJuXyD1"
      },
      "outputs": [],
      "source": [
        "# # concatenate\n",
        "\n",
        "# I = torch.cat([H, H, H, H], axis=0)\n",
        "# print(I)\n",
        "# H1 = torch.torch.tensor([[1, 2],[3, 4]])\n",
        "# J = torch.cat([H, H, H, H], axis=1) # ไม่มีเเกนที่1\n",
        "# print(J)"
      ]
    },
    {
      "cell_type": "code",
      "source": [
        "import torch\n",
        "\n",
        "H = torch.tensor([[0, 1, 2], [3, 4, 5]])\n",
        "\n",
        "# concat ตามแถว\n",
        "I = torch.cat([H, H, H, H], dim=0)\n",
        "print(\"Concatenate along dim=0:\\n\", I)\n",
        "\n",
        "# concat ตามคอลัมน์\n",
        "J = torch.cat([H, H, H, H], dim=1)\n",
        "print(\"Concatenate along dim=1:\\n\", J)"
      ],
      "metadata": {
        "id": "wPfGimX0T84P",
        "outputId": "508a9205-5f7d-4aed-d1ec-31f01a452c5a",
        "colab": {
          "base_uri": "https://localhost:8080/"
        }
      },
      "execution_count": 498,
      "outputs": [
        {
          "output_type": "stream",
          "name": "stdout",
          "text": [
            "Concatenate along dim=0:\n",
            " tensor([[0, 1, 2],\n",
            "        [3, 4, 5],\n",
            "        [0, 1, 2],\n",
            "        [3, 4, 5],\n",
            "        [0, 1, 2],\n",
            "        [3, 4, 5],\n",
            "        [0, 1, 2],\n",
            "        [3, 4, 5]])\n",
            "Concatenate along dim=1:\n",
            " tensor([[0, 1, 2, 0, 1, 2, 0, 1, 2, 0, 1, 2],\n",
            "        [3, 4, 5, 3, 4, 5, 3, 4, 5, 3, 4, 5]])\n"
          ]
        }
      ]
    },
    {
      "cell_type": "markdown",
      "metadata": {
        "id": "eWd_-Ub_pF3b"
      },
      "source": [
        "### Squeezing a tensor (removing an extra dimension)"
      ]
    },
    {
      "cell_type": "code",
      "execution_count": 499,
      "metadata": {
        "colab": {
          "base_uri": "https://localhost:8080/"
        },
        "id": "gf8iDb_PoX_4",
        "outputId": "16872d0d-640e-4739-aff3-c8d9ffbc0f88"
      },
      "outputs": [
        {
          "output_type": "stream",
          "name": "stdout",
          "text": [
            "H= tensor([[0, 1, 2],\n",
            "        [3, 4, 5]])\n",
            "K= tensor([[0, 1, 2, 3, 4, 5]])\n",
            "torch.Size([1, 6])\n"
          ]
        }
      ],
      "source": [
        "# [[1,2]] this is (1,2) tensor, want (2,)\n",
        "print(\"H=\", H) # shape = (6,)\n",
        "K = H.reshape(1,6)\n",
        "print(\"K=\", K)\n",
        "print(K.shape)"
      ]
    },
    {
      "cell_type": "code",
      "execution_count": 500,
      "metadata": {
        "colab": {
          "base_uri": "https://localhost:8080/"
        },
        "id": "Ke3ro96Cp7rT",
        "outputId": "fbd572ed-312c-4e96-b3d9-2658c36e678f"
      },
      "outputs": [
        {
          "output_type": "stream",
          "name": "stdout",
          "text": [
            "tensor([0, 1, 2, 3, 4, 5])\n"
          ]
        }
      ],
      "source": [
        "print(K.squeeze())"
      ]
    },
    {
      "cell_type": "code",
      "source": [
        "K1 = K.squeeze()"
      ],
      "metadata": {
        "id": "L1r2qJceUGrw"
      },
      "execution_count": 501,
      "outputs": []
    },
    {
      "cell_type": "code",
      "source": [
        "K1.shape"
      ],
      "metadata": {
        "id": "LOOBHd1lUDfF",
        "outputId": "1f0b4efd-3fb9-4974-fc0c-675117af94ac",
        "colab": {
          "base_uri": "https://localhost:8080/"
        }
      },
      "execution_count": 502,
      "outputs": [
        {
          "output_type": "execute_result",
          "data": {
            "text/plain": [
              "torch.Size([6])"
            ]
          },
          "metadata": {},
          "execution_count": 502
        }
      ]
    },
    {
      "cell_type": "code",
      "source": [
        "H"
      ],
      "metadata": {
        "id": "LyrAhsg1UaS0",
        "outputId": "0b2f5893-a7d1-45f5-8fd0-4035e321f19e",
        "colab": {
          "base_uri": "https://localhost:8080/"
        }
      },
      "execution_count": 503,
      "outputs": [
        {
          "output_type": "execute_result",
          "data": {
            "text/plain": [
              "tensor([[0, 1, 2],\n",
              "        [3, 4, 5]])"
            ]
          },
          "metadata": {},
          "execution_count": 503
        }
      ]
    },
    {
      "cell_type": "code",
      "source": [
        "H1.unsqueeze(axis=0)"
      ],
      "metadata": {
        "id": "o9vzCXTSUcWf",
        "outputId": "7f3cb1b9-26a0-43b1-cdae-f286b2397db0",
        "colab": {
          "base_uri": "https://localhost:8080/"
        }
      },
      "execution_count": 504,
      "outputs": [
        {
          "output_type": "execute_result",
          "data": {
            "text/plain": [
              "tensor([[ 0, -1, -2, -3, -4, -5]])"
            ]
          },
          "metadata": {},
          "execution_count": 504
        }
      ]
    },
    {
      "cell_type": "code",
      "source": [
        "H1.shape"
      ],
      "metadata": {
        "id": "fZdBRahmUkwz",
        "outputId": "55295435-c9a5-4f96-e457-2c14f8d97c14",
        "colab": {
          "base_uri": "https://localhost:8080/"
        }
      },
      "execution_count": 505,
      "outputs": [
        {
          "output_type": "execute_result",
          "data": {
            "text/plain": [
              "torch.Size([6])"
            ]
          },
          "metadata": {},
          "execution_count": 505
        }
      ]
    },
    {
      "cell_type": "code",
      "source": [
        "# H2.unsqueeze(axis=1)"
      ],
      "metadata": {
        "id": "ORkGfs3yVBts"
      },
      "execution_count": 506,
      "outputs": []
    },
    {
      "cell_type": "code",
      "source": [
        "# H2.shape"
      ],
      "metadata": {
        "id": "-Q5Ym5FMUvRt"
      },
      "execution_count": 507,
      "outputs": []
    },
    {
      "cell_type": "code",
      "execution_count": 508,
      "metadata": {
        "colab": {
          "base_uri": "https://localhost:8080/"
        },
        "id": "DJxWfoyOqaQs",
        "outputId": "1eead497-db27-4b15-9e18-b9cca4b75abc"
      },
      "outputs": [
        {
          "output_type": "stream",
          "name": "stdout",
          "text": [
            "tensor([[[0, 1, 2],\n",
            "         [3, 4, 5]]])\n",
            "tensor([[[0, 1, 2]],\n",
            "\n",
            "        [[3, 4, 5]]])\n"
          ]
        }
      ],
      "source": [
        "# H.shape = (6, )\n",
        "L = H.unsqueeze(axis=0)  # L.shape(1, 6)\n",
        "M = H.unsqueeze(axis=1)  # L.shape(6, 1)\n",
        "print(L)\n",
        "print(M)"
      ]
    },
    {
      "cell_type": "markdown",
      "metadata": {
        "id": "bfaM--ZlsUsB"
      },
      "source": [
        "## Indexing"
      ]
    },
    {
      "cell_type": "code",
      "execution_count": 509,
      "metadata": {
        "colab": {
          "base_uri": "https://localhost:8080/"
        },
        "id": "fPqsnD8qsWsH",
        "outputId": "b9e54a19-6998-45a3-8acf-7b2fae921f5e"
      },
      "outputs": [
        {
          "output_type": "stream",
          "name": "stdout",
          "text": [
            "tensor([[ 0,  1,  2,  3],\n",
            "        [ 4,  5,  6,  7],\n",
            "        [ 8,  9, 10, 11]])\n",
            "tensor([0, 1, 2, 3])\n",
            "tensor([0, 4, 8])\n",
            "tensor([ 8,  9, 10, 11])\n",
            "tensor([ 3,  7, 11])\n",
            "tensor([[ 4,  5,  6,  7],\n",
            "        [ 8,  9, 10, 11]])\n",
            "tensor([[ 2,  3],\n",
            "        [ 6,  7],\n",
            "        [10, 11]])\n"
          ]
        }
      ],
      "source": [
        "P = torch.arange(12).reshape(3,4)\n",
        "print(P)\n",
        "print(P[0])\n",
        "print(P[:, 0])\n",
        "print(P[-1])\n",
        "print(P[:, -1])\n",
        "print(P[-2:])\n",
        "print(P[:, -2:])"
      ]
    },
    {
      "cell_type": "markdown",
      "metadata": {
        "id": "ftVXJ-3ur9yk"
      },
      "source": [
        "## PyTorch and GPU"
      ]
    },
    {
      "cell_type": "markdown",
      "metadata": {
        "id": "2TmzZR23sKOW"
      },
      "source": [
        "check if GPU is available"
      ]
    },
    {
      "cell_type": "code",
      "execution_count": 510,
      "metadata": {
        "colab": {
          "base_uri": "https://localhost:8080/"
        },
        "id": "TSiXGmqrqyzw",
        "outputId": "fd774561-29d1-40c0-df6d-5b0eba8790a1"
      },
      "outputs": [
        {
          "output_type": "execute_result",
          "data": {
            "text/plain": [
              "True"
            ]
          },
          "metadata": {},
          "execution_count": 510
        }
      ],
      "source": [
        "torch.cuda.is_available()"
      ]
    },
    {
      "cell_type": "code",
      "execution_count": 511,
      "metadata": {
        "colab": {
          "base_uri": "https://localhost:8080/"
        },
        "id": "wjDt08_7sMxz",
        "outputId": "e8176cf4-d123-43bd-b460-9561249607f0"
      },
      "outputs": [
        {
          "output_type": "stream",
          "name": "stdout",
          "text": [
            "cpu\n"
          ]
        }
      ],
      "source": [
        "Q = torch.tensor([1, 2, 3])\n",
        "print(Q.device)"
      ]
    },
    {
      "cell_type": "code",
      "execution_count": 512,
      "metadata": {
        "colab": {
          "base_uri": "https://localhost:8080/"
        },
        "id": "7BitUf-RtdG3",
        "outputId": "2e213dad-b2bc-41dd-eeab-b78127053cc8"
      },
      "outputs": [
        {
          "output_type": "stream",
          "name": "stdout",
          "text": [
            "cpu\n",
            "cuda:0\n"
          ]
        }
      ],
      "source": [
        "R = Q.to('cuda')\n",
        "\n",
        "R\n",
        "print(Q.device)\n",
        "print(R.device)"
      ]
    },
    {
      "cell_type": "code",
      "execution_count": 513,
      "metadata": {
        "colab": {
          "base_uri": "https://localhost:8080/"
        },
        "id": "PbsTOQ-Itiax",
        "outputId": "8af9dc37-77b9-4621-bc5a-132272c344a2"
      },
      "outputs": [
        {
          "output_type": "execute_result",
          "data": {
            "text/plain": [
              "array([1, 2, 3])"
            ]
          },
          "metadata": {},
          "execution_count": 513
        }
      ],
      "source": [
        "R.cpu().numpy()"
      ]
    },
    {
      "cell_type": "code",
      "execution_count": 514,
      "metadata": {
        "id": "RkI3ITOLt2S6",
        "colab": {
          "base_uri": "https://localhost:8080/"
        },
        "outputId": "34718d84-403d-4500-efd8-0668b5b03aa7"
      },
      "outputs": [
        {
          "output_type": "execute_result",
          "data": {
            "text/plain": [
              "device(type='cuda', index=0)"
            ]
          },
          "metadata": {},
          "execution_count": 514
        }
      ],
      "source": [
        "R1 = Q.cuda()\n",
        "\n",
        "R1.device"
      ]
    },
    {
      "cell_type": "code",
      "source": [
        "R.cpu().numpy()"
      ],
      "metadata": {
        "colab": {
          "base_uri": "https://localhost:8080/"
        },
        "id": "b1I7EoxJWUIO",
        "outputId": "8b366d4c-712b-4466-9808-bfd73e69428f"
      },
      "execution_count": 515,
      "outputs": [
        {
          "output_type": "execute_result",
          "data": {
            "text/plain": [
              "array([1, 2, 3])"
            ]
          },
          "metadata": {},
          "execution_count": 515
        }
      ]
    },
    {
      "cell_type": "markdown",
      "metadata": {
        "id": "aZBZ3f66AFye"
      },
      "source": [
        "# Exercise\n",
        "\n",
        "In this exercise, we will simulate data to perform linear regression with 200 rows and 7 variables.\n",
        "\n",
        "1. Create three random $N(0,1)$ tensors: `X`, `b` and `e` with `X.shape = (200, 7)`, `b.shape = (8, 1)` and `e.shape = (200, 1)` respectively.\n",
        "2. Create a tensor that contains only 1's with shape `(200, 1)`.\n",
        "3. Modify tensor `X` by adding the tensor in 2. as the first column.\n",
        "4. Compute `y` using the following formula:\n",
        "$$ y = Xb + e $$.\n",
        "5. Fit a linear regression to the data `X` and `y` and obtain a tensor of estimated coefficient `b_hat`. The formula for `b_hat` is given by:\n",
        "$$ \\hat{b} = (X^TX)^{-1}X^Ty $$\n",
        "Note: use `torch.inverse(...)` to calculate the inverse\n",
        "6. Compute the predictions `y_hat`, given by:\n",
        "$$ \\hat{y} = X\\hat{b} $$\n",
        "7. Convert both `y` and `y_hat` from tensor to Numpy array and calculate MSE:\n",
        "$$ MSE = \\frac{1}{200}\\sum_{i=1}^{200} (y_i - \\hat{y}_i)^2 $$"
      ]
    },
    {
      "cell_type": "code",
      "source": [
        "torch.manual_seed(0)\n",
        "np.random.seed(0)"
      ],
      "metadata": {
        "id": "fqj_v6XoxFM3"
      },
      "execution_count": 516,
      "outputs": []
    },
    {
      "cell_type": "markdown",
      "source": [
        "**1.Create three random  𝑁(0,1)  tensors**"
      ],
      "metadata": {
        "id": "FEH9ffyDx6xq"
      }
    },
    {
      "cell_type": "code",
      "source": [
        "n, p = 200, 7\n",
        "X_feat = torch.randn(200, 7)       # X.shape (200, 7)\n",
        "b      = torch.randn(8, 1)         # b.shape (8, 1)\n",
        "e      = torch.randn(200, 1)       # e.shape (200, 1)"
      ],
      "metadata": {
        "id": "E51Osuxfx51g"
      },
      "execution_count": 517,
      "outputs": []
    },
    {
      "cell_type": "markdown",
      "source": [
        "**2.Create a tensor that contains only 1's with shape (200, 1)**"
      ],
      "metadata": {
        "id": "ZcSUyYERyEMy"
      }
    },
    {
      "cell_type": "code",
      "source": [
        "first = torch.ones(200, 1)"
      ],
      "metadata": {
        "id": "NF9qwFAlyKyZ"
      },
      "execution_count": 518,
      "outputs": []
    },
    {
      "cell_type": "markdown",
      "source": [
        "**3.Modify tensor X by adding the tensor in 2. as the first column**"
      ],
      "metadata": {
        "id": "dvgAjuv1yJ6q"
      }
    },
    {
      "cell_type": "code",
      "source": [
        "X = torch.cat([first, X_feat], axis=1)"
      ],
      "metadata": {
        "id": "76x8v8cVyS4o"
      },
      "execution_count": 519,
      "outputs": []
    },
    {
      "cell_type": "markdown",
      "source": [
        "**4.Compute y**"
      ],
      "metadata": {
        "id": "ofJmIZtWyU61"
      }
    },
    {
      "cell_type": "code",
      "source": [
        "y = X @ b + e\n",
        "# y"
      ],
      "metadata": {
        "id": "PX1ZMP6qya0s"
      },
      "execution_count": 520,
      "outputs": []
    },
    {
      "cell_type": "markdown",
      "source": [
        "**5.Fit a linear regression to the data X and y**"
      ],
      "metadata": {
        "id": "3hGIfo4dydhW"
      }
    },
    {
      "cell_type": "code",
      "source": [
        "XtX_inv = torch.inverse(X.t() @ X)\n",
        "b_hat = XtX_inv @ X.t() @ y"
      ],
      "metadata": {
        "id": "EL4WpddqyiLQ"
      },
      "execution_count": 521,
      "outputs": []
    },
    {
      "cell_type": "markdown",
      "source": [
        "**6.Compute the predictions y_hat**"
      ],
      "metadata": {
        "id": "9d1kOiRUylvI"
      }
    },
    {
      "cell_type": "code",
      "source": [
        "y_predic = X @ b_hat\n",
        "# y_predic\n"
      ],
      "metadata": {
        "id": "uA0APKr3ylAx"
      },
      "execution_count": 522,
      "outputs": []
    },
    {
      "cell_type": "markdown",
      "source": [
        "**7.Convert both y and y_hat from tensor to Numpy array and calculate MSE**"
      ],
      "metadata": {
        "id": "TlGxkC8dyr4V"
      }
    },
    {
      "cell_type": "code",
      "source": [
        "y_np     = y.detach().cpu().numpy()\n",
        "y_predic_np = y_predic.detach().cpu().numpy()\n",
        "mse = float(((y_np - y_predic_np) ** 2).mean())\n",
        "\n",
        "print(\"\\nFirst 6 rows [y, y_predic]\")\n",
        "print(np.round(np.hstack([y_np[:6], y_predic_np[:6]]), 4))\n",
        "print(f\"\\nMSE:{mse:}\")"
      ],
      "metadata": {
        "colab": {
          "base_uri": "https://localhost:8080/"
        },
        "id": "9s7DyMU3yklb",
        "outputId": "5b32c8d5-d3cb-484f-a8e7-8a998451454e"
      },
      "execution_count": 523,
      "outputs": [
        {
          "output_type": "stream",
          "name": "stdout",
          "text": [
            "\n",
            "First 6 rows [y, y_predic]\n",
            "[[-2.8974 -2.9538]\n",
            " [-1.8369 -0.8157]\n",
            " [-1.189  -0.8432]\n",
            " [-1.1544 -1.8438]\n",
            " [-1.0626 -0.366 ]\n",
            " [ 1.3811  1.7532]]\n",
            "\n",
            "MSE:0.9451754093170166\n"
          ]
        }
      ]
    }
  ],
  "metadata": {
    "accelerator": "GPU",
    "colab": {
      "provenance": [],
      "gpuType": "T4",
      "include_colab_link": true
    },
    "kernelspec": {
      "display_name": "Python 3",
      "name": "python3"
    },
    "language_info": {
      "codemirror_mode": {
        "name": "ipython",
        "version": 3
      },
      "file_extension": ".py",
      "mimetype": "text/x-python",
      "name": "python",
      "nbconvert_exporter": "python",
      "pygments_lexer": "ipython3",
      "version": "3.10.12"
    }
  },
  "nbformat": 4,
  "nbformat_minor": 0
}